{
 "cells": [
  {
   "cell_type": "code",
   "execution_count": 1,
   "id": "478ef539",
   "metadata": {},
   "outputs": [
    {
     "ename": "ModuleNotFoundError",
     "evalue": "No module named 'google'",
     "output_type": "error",
     "traceback": [
      "\u001b[1;31m---------------------------------------------------------------------------\u001b[0m",
      "\u001b[1;31mModuleNotFoundError\u001b[0m                       Traceback (most recent call last)",
      "\u001b[1;32m~\\AppData\\Local\\Temp/ipykernel_1760/1495236138.py\u001b[0m in \u001b[0;36m<module>\u001b[1;34m\u001b[0m\n\u001b[0;32m      5\u001b[0m \u001b[1;32mimport\u001b[0m \u001b[0murllib\u001b[0m\u001b[1;33m\u001b[0m\u001b[1;33m\u001b[0m\u001b[0m\n\u001b[0;32m      6\u001b[0m \u001b[1;32mimport\u001b[0m \u001b[0mtime\u001b[0m\u001b[1;33m\u001b[0m\u001b[1;33m\u001b[0m\u001b[0m\n\u001b[1;32m----> 7\u001b[1;33m \u001b[1;32mfrom\u001b[0m \u001b[0mgoogle\u001b[0m\u001b[1;33m.\u001b[0m\u001b[0mcolab\u001b[0m \u001b[1;32mimport\u001b[0m \u001b[0mfiles\u001b[0m\u001b[1;33m\u001b[0m\u001b[1;33m\u001b[0m\u001b[0m\n\u001b[0m\u001b[0;32m      8\u001b[0m \u001b[1;32mimport\u001b[0m \u001b[0mio\u001b[0m\u001b[1;33m\u001b[0m\u001b[1;33m\u001b[0m\u001b[0m\n",
      "\u001b[1;31mModuleNotFoundError\u001b[0m: No module named 'google'"
     ]
    }
   ],
   "source": [
    "# Import required packages \n",
    "import json\n",
    "import requests\n",
    "import pandas as pd\n",
    "import urllib\n",
    "import time\n",
    "#from google.colab import files\n",
    "import io "
   ]
  },
  {
   "cell_type": "code",
   "execution_count": null,
   "id": "42c34dca",
   "metadata": {},
   "outputs": [],
   "source": [
    "# Define URL  \n",
    "url = 'https://www.example.co.uk'\n",
    "\n",
    "# API request url\n",
    "result = urllib.request.urlopen('https://www.googleapis.com/pagespeedonline/v5/runPagespeed?url={}/&strategy=mobile'\\\n",
    ".format(url)).read().decode('UTF-8')\n",
    "\n",
    "print(result)"
   ]
  },
  {
   "cell_type": "code",
   "execution_count": null,
   "id": "e2c325ac",
   "metadata": {},
   "outputs": [],
   "source": [
    "# Convert to json format\n",
    "result_json = json.loads(result)\n",
    "\n",
    "print(result_json)\n",
    "\n",
    "with open('result.json', 'w') as outfile:\n",
    "  json.dump(result_json, outfile)\n",
    "\n",
    "files.download('result.json')"
   ]
  },
  {
   "cell_type": "code",
   "execution_count": null,
   "id": "df7c7705",
   "metadata": {},
   "outputs": [],
   "source": [
    "uploaded = files.upload()\n",
    "#if your column header is something other than 'url' please define it here \n",
    "column_header='url'"
   ]
  },
  {
   "cell_type": "code",
   "execution_count": null,
   "id": "995e493e",
   "metadata": {},
   "outputs": [],
   "source": [
    "# Get the filename from the upload so we can read it into a CSV.\n",
    "for key in uploaded.keys():\n",
    "  filename = key\n",
    "# Read the selected file into a Pandas Dataframe\n",
    "df = pd.read_csv(io.BytesIO(uploaded[filename]))\n",
    "\n",
    "df.head()"
   ]
  },
  {
   "cell_type": "code",
   "execution_count": null,
   "id": "678601bf",
   "metadata": {},
   "outputs": [],
   "source": []
  },
  {
   "cell_type": "code",
   "execution_count": null,
   "id": "e69d36c4",
   "metadata": {},
   "outputs": [],
   "source": []
  }
 ],
 "metadata": {
  "kernelspec": {
   "display_name": "Python 3 (ipykernel)",
   "language": "python",
   "name": "python3"
  },
  "language_info": {
   "codemirror_mode": {
    "name": "ipython",
    "version": 3
   },
   "file_extension": ".py",
   "mimetype": "text/x-python",
   "name": "python",
   "nbconvert_exporter": "python",
   "pygments_lexer": "ipython3",
   "version": "3.9.7"
  }
 },
 "nbformat": 4,
 "nbformat_minor": 5
}
