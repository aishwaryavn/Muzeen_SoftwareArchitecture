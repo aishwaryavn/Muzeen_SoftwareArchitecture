{
 "cells": [
  {
   "cell_type": "code",
   "execution_count": 15,
   "id": "45e12309",
   "metadata": {},
   "outputs": [],
   "source": [
    "import socket"
   ]
  },
  {
   "cell_type": "code",
   "execution_count": 16,
   "id": "62a7a58a",
   "metadata": {},
   "outputs": [],
   "source": [
    "s = socket.socket(socket.AF_INET, socket.SOCK_STREAM)"
   ]
  },
  {
   "cell_type": "code",
   "execution_count": 17,
   "id": "b398a6d6",
   "metadata": {},
   "outputs": [],
   "source": [
    "host = \"localhost\""
   ]
  },
  {
   "cell_type": "code",
   "execution_count": 18,
   "id": "73cffb0b",
   "metadata": {},
   "outputs": [],
   "source": [
    "port = 4242"
   ]
  },
  {
   "cell_type": "code",
   "execution_count": 19,
   "id": "ec043489",
   "metadata": {},
   "outputs": [],
   "source": [
    "conn = s.connect((host, port))"
   ]
  },
  {
   "cell_type": "code",
   "execution_count": 20,
   "id": "fd313eb7",
   "metadata": {},
   "outputs": [],
   "source": [
    "s.sendall(b'remove_server')"
   ]
  },
  {
   "cell_type": "code",
   "execution_count": 27,
   "id": "60c4ca4f",
   "metadata": {},
   "outputs": [],
   "source": [
    "x=s.sendall(b'get_servers')\n",
    "x"
   ]
  },
  {
   "cell_type": "code",
   "execution_count": 8,
   "id": "5158fe03",
   "metadata": {},
   "outputs": [],
   "source": [
    "s.sendall(b'add_server')"
   ]
  },
  {
   "cell_type": "code",
   "execution_count": 9,
   "id": "a46d8f6a",
   "metadata": {},
   "outputs": [],
   "source": [
    "s.sendall(b'add_server')"
   ]
  },
  {
   "cell_type": "code",
   "execution_count": 10,
   "id": "8891e8aa",
   "metadata": {},
   "outputs": [],
   "source": [
    "s.sendall(b'add_server')"
   ]
  },
  {
   "cell_type": "code",
   "execution_count": 11,
   "id": "1c2cd1e3",
   "metadata": {},
   "outputs": [],
   "source": [
    "s.sendall(b'get_active_servers')"
   ]
  },
  {
   "cell_type": "code",
   "execution_count": 12,
   "id": "0945631b",
   "metadata": {},
   "outputs": [],
   "source": [
    "s.sendall(b'set_dimmer 0.25')"
   ]
  },
  {
   "cell_type": "code",
   "execution_count": 13,
   "id": "d00763a5",
   "metadata": {},
   "outputs": [],
   "source": [
    "s.sendall(b'add_server')"
   ]
  },
  {
   "cell_type": "code",
   "execution_count": 14,
   "id": "9da33582",
   "metadata": {},
   "outputs": [],
   "source": [
    "s.sendall(b'remove_server')"
   ]
  },
  {
   "cell_type": "code",
   "execution_count": null,
   "id": "65ab1ec6",
   "metadata": {},
   "outputs": [],
   "source": [
    "s.sendall(b'get_arraival_rate')\n",
    "x=s.recv(1024)\n",
    "x"
   ]
  },
  {
   "cell_type": "code",
   "execution_count": null,
   "id": "b19f733f",
   "metadata": {},
   "outputs": [],
   "source": []
  }
 ],
 "metadata": {
  "kernelspec": {
   "display_name": "Python 3 (ipykernel)",
   "language": "python",
   "name": "python3"
  },
  "language_info": {
   "codemirror_mode": {
    "name": "ipython",
    "version": 3
   },
   "file_extension": ".py",
   "mimetype": "text/x-python",
   "name": "python",
   "nbconvert_exporter": "python",
   "pygments_lexer": "ipython3",
   "version": "3.9.7"
  }
 },
 "nbformat": 4,
 "nbformat_minor": 5
}
